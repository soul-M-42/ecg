{
 "cells": [
  {
   "cell_type": "markdown",
   "metadata": {},
   "source": [
    "w/o clisa_loss:\n",
    "0.6335 6388 6432 6477\n",
    "w clisa_loss:\n",
    "0.6789 6716 6334 6391\n"
   ]
  },
  {
   "cell_type": "markdown",
   "metadata": {},
   "source": [
    "### w/o clisa loss:\n",
    "\n",
    "Fold 0 Train F1: 0.9372, Validation F1: 0.6628 Train Acc: 0.9891, Validation Acc: 0.9444\n",
    "Fold 1 Train F1: 0.9575, Validation F1: 0.6789 Train Acc: 0.9931, Validation Acc: 0.9452\n",
    "Fold 2 Train F1: 0.9502, Validation F1: 0.6515 Train Acc: 0.9919, Validation Acc: 0.9422\n",
    "Fold 3 Train F1: 0.9443, Validation F1: 0.6532 Train Acc: 0.9907, Validation Acc: 0.9416\n",
    "\n",
    "**F1: 0.6616±0.0109**\n",
    "\n",
    "**ACC: 0.9434%±0.0015**\n",
    "\n",
    "### w clisa loss:\n",
    "\n",
    "Fold 0 Train F1: 0.9466, Validation F1: 0.6712 Train Acc: 0.9908, Validation Acc: 0.9436\n",
    "Fold 1 Train F1: 0.9487, Validation F1: 0.6800 Train Acc: 0.9917, Validation Acc: 0.9441\n",
    "Fold 2 Train F1: 0.9497, Validation F1: 0.7093 Train Acc: 0.9918, Validation Acc: 0.9466\n",
    "Fold 3 Train F1: 0.9453, Validation F1: 0.6913 Train Acc: 0.9910, Validation Acc: 0.9427\n",
    "\n",
    "**F1: 0.6880±0.0143**\n",
    "\n",
    "**ACC: 0.9443%±0.0015**\n"
   ]
  },
  {
   "cell_type": "markdown",
   "metadata": {},
   "source": []
  }
 ],
 "metadata": {
  "language_info": {
   "name": "python"
  }
 },
 "nbformat": 4,
 "nbformat_minor": 2
}
